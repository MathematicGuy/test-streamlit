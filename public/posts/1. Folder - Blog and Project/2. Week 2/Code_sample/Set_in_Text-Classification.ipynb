{
 "cells": [
  {
   "cell_type": "markdown",
   "id": "048e4474-effa-4470-a8ff-c1dbdb219e79",
   "metadata": {},
   "source": [
    "Ở phần này chúng ta sẽ thực hiện idea chuyển text -> numbers. \n",
    "Vì như chúng ta đã biết các máy học sẽ học từ dữ liệu dạng số chứ không phải học từ dữ liệu dạng chữ như con người.\n",
    "Vì vậy, việc tiền xử lý text -> number là cực kỳ quan trọng trong các bài toán ứng dụng AI/học máy xử lý ngôn ngữ tự nhiên."
   ]
  },
  {
   "cell_type": "code",
   "execution_count": 20,
   "id": "98d8aabb-7d64-498f-99f1-868c365e1593",
   "metadata": {},
   "outputs": [
    {
     "name": "stdout",
     "output_type": "stream",
     "text": [
      "One day, a fox became very hungry as he went to search for some food. He searched high and low, but couldn’t find something that he could eat. Finally, as his stomach rumbled, he stumbled upon a farmer’s wall. At the top of the wall, he saw the biggest, juiciest grapes he’d ever seen. They had a rich, purple color, telling the fox they were ready to be eaten. To reach the grapes, the fox had to jump high in the air. As he jumped, he opened his mouth to catch the grapes, but he missed. The fox tried again but missed yet again. He tried a few more times but kept failing. Finally, the fox decided it was time to give up and go home. While he walked away, he muttered, “I’m sure the grapes were sour anyway.”\n"
     ]
    }
   ],
   "source": [
    "# kết nối file\n",
    "df = open('data .txt', 'r',encoding='utf-8')\n",
    "\n",
    "# Đọc file\n",
    "data = df.read()\n",
    "print(data)\n",
    "\n",
    "# ngắt kết nối file\n",
    "df.close()"
   ]
  },
  {
   "cell_type": "code",
   "execution_count": 22,
   "id": "0a36a252-fdd2-48da-8ace-f7484c0cf385",
   "metadata": {},
   "outputs": [
    {
     "name": "stdout",
     "output_type": "stream",
     "text": [
      "One day a fox became very hungry as he went to search for some food He searched high and low but couldn’t find something that he could eat Finally as his stomach rumbled he stumbled upon a farmer’s wall At the top of the wall he saw the biggest juiciest grapes he’d ever seen They had a rich purple color telling the fox they were ready to be eaten To reach the grapes the fox had to jump high in the air As he jumped he opened his mouth to catch the grapes but he missed The fox tried again but missed yet again He tried a few more times but kept failing Finally the fox decided it was time to give up and go home While he walked away he muttered I’m sure the grapes were sour anyway\n"
     ]
    }
   ],
   "source": [
    "# thay thế các ký tự đặc biệt thành khoảng trắng\n",
    "data = data.replace('.', '').replace(',', '').replace('“', '').replace('”','')\n",
    "print(data)"
   ]
  },
  {
   "cell_type": "code",
   "execution_count": 24,
   "id": "cd0cea92-a376-4b37-9581-7a2a6cb2aea0",
   "metadata": {},
   "outputs": [
    {
     "name": "stdout",
     "output_type": "stream",
     "text": [
      "one day a fox became very hungry as he went to search for some food he searched high and low but couldn’t find something that he could eat finally as his stomach rumbled he stumbled upon a farmer’s wall at the top of the wall he saw the biggest juiciest grapes he’d ever seen they had a rich purple color telling the fox they were ready to be eaten to reach the grapes the fox had to jump high in the air as he jumped he opened his mouth to catch the grapes but he missed the fox tried again but missed yet again he tried a few more times but kept failing finally the fox decided it was time to give up and go home while he walked away he muttered i’m sure the grapes were sour anyway\n"
     ]
    }
   ],
   "source": [
    "# chuyển thành chữ thường\n",
    "data = data.lower()\n",
    "print(data)\n"
   ]
  },
  {
   "cell_type": "code",
   "execution_count": 26,
   "id": "78b35244-e227-4df7-b0fd-106de2c698a6",
   "metadata": {},
   "outputs": [
    {
     "name": "stdout",
     "output_type": "stream",
     "text": [
      "['one', 'day', 'a', 'fox', 'became', 'very', 'hungry', 'as', 'he', 'went', 'to', 'search', 'for', 'some', 'food', 'he', 'searched', 'high', 'and', 'low', 'but', 'couldn’t', 'find', 'something', 'that', 'he', 'could', 'eat', 'finally', 'as', 'his', 'stomach', 'rumbled', 'he', 'stumbled', 'upon', 'a', 'farmer’s', 'wall', 'at', 'the', 'top', 'of', 'the', 'wall', 'he', 'saw', 'the', 'biggest', 'juiciest', 'grapes', 'he’d', 'ever', 'seen', 'they', 'had', 'a', 'rich', 'purple', 'color', 'telling', 'the', 'fox', 'they', 'were', 'ready', 'to', 'be', 'eaten', 'to', 'reach', 'the', 'grapes', 'the', 'fox', 'had', 'to', 'jump', 'high', 'in', 'the', 'air', 'as', 'he', 'jumped', 'he', 'opened', 'his', 'mouth', 'to', 'catch', 'the', 'grapes', 'but', 'he', 'missed', 'the', 'fox', 'tried', 'again', 'but', 'missed', 'yet', 'again', 'he', 'tried', 'a', 'few', 'more', 'times', 'but', 'kept', 'failing', 'finally', 'the', 'fox', 'decided', 'it', 'was', 'time', 'to', 'give', 'up', 'and', 'go', 'home', 'while', 'he', 'walked', 'away', 'he', 'muttered', 'i’m', 'sure', 'the', 'grapes', 'were', 'sour', 'anyway']\n",
      "139\n"
     ]
    }
   ],
   "source": [
    "# tách các từ đơn\n",
    "data = data.split()\n",
    "print(data)\n",
    "print(len(data))"
   ]
  },
  {
   "cell_type": "code",
   "execution_count": 28,
   "id": "b7218d6b-d082-4593-88a6-7d97c1307ca2",
   "metadata": {},
   "outputs": [
    {
     "name": "stdout",
     "output_type": "stream",
     "text": [
      "{'stumbled', 'wall', 'something', 'to', 'time', 'stomach', 'reach', 'in', 'had', 'biggest', 'rumbled', 'he', 'very', 'upon', 'go', 'jump', 'give', 'was', 'home', 'kept', 'were', 'couldn’t', 'sour', 'seen', 'they', 'air', 'low', 'juiciest', 'away', 'hungry', 'it', 'telling', 'fox', 'the', 'eat', 'times', 'while', 'muttered', 'opened', 'that', 'sure', 'again', 'became', 'for', 'rich', 'and', 'a', 'mouth', 'up', 'search', 'eaten', 'at', 'i’m', 'ready', 'saw', 'jumped', 'but', 'grapes', 'top', 'yet', 'walked', 'high', 'tried', 'he’d', 'decided', 'could', 'few', 'be', 'ever', 'some', 'color', 'catch', 'went', 'of', 'one', 'missed', 'find', 'more', 'farmer’s', 'food', 'searched', 'finally', 'his', 'purple', 'anyway', 'day', 'failing', 'as'}\n",
      "88\n"
     ]
    }
   ],
   "source": [
    "# xóa trùng lặp bằng cách chuyển vô set\n",
    "data = set(data)\n",
    "print(data)\n",
    "print(len(data))"
   ]
  },
  {
   "cell_type": "code",
   "execution_count": 30,
   "id": "14974d80-0790-45ee-8d46-a6e03e047007",
   "metadata": {},
   "outputs": [
    {
     "name": "stdout",
     "output_type": "stream",
     "text": [
      "0 stumbled\n",
      "1 wall\n",
      "2 something\n",
      "3 to\n",
      "4 time\n",
      "5 stomach\n",
      "6 reach\n",
      "7 in\n",
      "8 had\n",
      "9 biggest\n",
      "10 rumbled\n",
      "11 he\n",
      "12 very\n",
      "13 upon\n",
      "14 go\n",
      "15 jump\n",
      "16 give\n",
      "17 was\n",
      "18 home\n",
      "19 kept\n",
      "20 were\n",
      "21 couldn’t\n",
      "22 sour\n",
      "23 seen\n",
      "24 they\n",
      "25 air\n",
      "26 low\n",
      "27 juiciest\n",
      "28 away\n",
      "29 hungry\n",
      "30 it\n",
      "31 telling\n",
      "32 fox\n",
      "33 the\n",
      "34 eat\n",
      "35 times\n",
      "36 while\n",
      "37 muttered\n",
      "38 opened\n",
      "39 that\n",
      "40 sure\n",
      "41 again\n",
      "42 became\n",
      "43 for\n",
      "44 rich\n",
      "45 and\n",
      "46 a\n",
      "47 mouth\n",
      "48 up\n",
      "49 search\n",
      "50 eaten\n",
      "51 at\n",
      "52 i’m\n",
      "53 ready\n",
      "54 saw\n",
      "55 jumped\n",
      "56 but\n",
      "57 grapes\n",
      "58 top\n",
      "59 yet\n",
      "60 walked\n",
      "61 high\n",
      "62 tried\n",
      "63 he’d\n",
      "64 decided\n",
      "65 could\n",
      "66 few\n",
      "67 be\n",
      "68 ever\n",
      "69 some\n",
      "70 color\n",
      "71 catch\n",
      "72 went\n",
      "73 of\n",
      "74 one\n",
      "75 missed\n",
      "76 find\n",
      "77 more\n",
      "78 farmer’s\n",
      "79 food\n",
      "80 searched\n",
      "81 finally\n",
      "82 his\n",
      "83 purple\n",
      "84 anyway\n",
      "85 day\n",
      "86 failing\n",
      "87 as\n"
     ]
    }
   ],
   "source": [
    "for index, value in enumerate(data):\n",
    "    print(index, value)"
   ]
  },
  {
   "cell_type": "code",
   "execution_count": 34,
   "id": "561de821-1e89-413e-b741-242d4a5757e7",
   "metadata": {},
   "outputs": [
    {
     "name": "stdout",
     "output_type": "stream",
     "text": [
      "{'stumbled': 0, 'wall': 1, 'something': 2, 'to': 3, 'time': 4, 'stomach': 5, 'reach': 6, 'in': 7, 'had': 8, 'biggest': 9, 'rumbled': 10, 'he': 11, 'very': 12, 'upon': 13, 'go': 14, 'jump': 15, 'give': 16, 'was': 17, 'home': 18, 'kept': 19, 'were': 20, 'couldn’t': 21, 'sour': 22, 'seen': 23, 'they': 24, 'air': 25, 'low': 26, 'juiciest': 27, 'away': 28, 'hungry': 29, 'it': 30, 'telling': 31, 'fox': 32, 'the': 33, 'eat': 34, 'times': 35, 'while': 36, 'muttered': 37, 'opened': 38, 'that': 39, 'sure': 40, 'again': 41, 'became': 42, 'for': 43, 'rich': 44, 'and': 45, 'a': 46, 'mouth': 47, 'up': 48, 'search': 49, 'eaten': 50, 'at': 51, 'i’m': 52, 'ready': 53, 'saw': 54, 'jumped': 55, 'but': 56, 'grapes': 57, 'top': 58, 'yet': 59, 'walked': 60, 'high': 61, 'tried': 62, 'he’d': 63, 'decided': 64, 'could': 65, 'few': 66, 'be': 67, 'ever': 68, 'some': 69, 'color': 70, 'catch': 71, 'went': 72, 'of': 73, 'one': 74, 'missed': 75, 'find': 76, 'more': 77, 'farmer’s': 78, 'food': 79, 'searched': 80, 'finally': 81, 'his': 82, 'purple': 83, 'anyway': 84, 'day': 85, 'failing': 86, 'as': 87}\n"
     ]
    }
   ],
   "source": [
    "dict_data = {value:index for index, value in enumerate(data)}\n",
    "print(dict_data)"
   ]
  },
  {
   "cell_type": "code",
   "execution_count": 42,
   "id": "e5bf4897-646f-4b97-8975-1bc31bcb8665",
   "metadata": {},
   "outputs": [
    {
     "name": "stdout",
     "output_type": "stream",
     "text": [
      "15\n"
     ]
    }
   ],
   "source": [
    "print(dict_data[\"jump\"])"
   ]
  },
  {
   "cell_type": "markdown",
   "id": "825f7a0c-a740-48e2-bc04-9147f9b6d96e",
   "metadata": {},
   "source": []
  }
 ],
 "metadata": {
  "kernelspec": {
   "display_name": "Python [conda env:base] *",
   "language": "python",
   "name": "conda-base-py"
  },
  "language_info": {
   "codemirror_mode": {
    "name": "ipython",
    "version": 3
   },
   "file_extension": ".py",
   "mimetype": "text/x-python",
   "name": "python",
   "nbconvert_exporter": "python",
   "pygments_lexer": "ipython3",
   "version": "3.12.3"
  }
 },
 "nbformat": 4,
 "nbformat_minor": 5
}
